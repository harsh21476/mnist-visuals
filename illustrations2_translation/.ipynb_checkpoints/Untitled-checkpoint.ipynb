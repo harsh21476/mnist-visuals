{
 "cells": [
  {
   "cell_type": "code",
   "execution_count": 1,
   "metadata": {},
   "outputs": [
    {
     "name": "stderr",
     "output_type": "stream",
     "text": [
      "/home/harsh/tensorflow/lib/python3.6/site-packages/ipykernel_launcher.py:6: UserWarning: \n",
      "This call to matplotlib.use() has no effect because the backend has already\n",
      "been chosen; matplotlib.use() must be called *before* pylab, matplotlib.pyplot,\n",
      "or matplotlib.backends is imported for the first time.\n",
      "\n",
      "The backend was *originally* set to 'module://ipykernel.pylab.backend_inline' by the following code:\n",
      "  File \"/usr/lib/python3.6/runpy.py\", line 193, in _run_module_as_main\n",
      "    \"__main__\", mod_spec)\n",
      "  File \"/usr/lib/python3.6/runpy.py\", line 85, in _run_code\n",
      "    exec(code, run_globals)\n",
      "  File \"/home/harsh/tensorflow/lib/python3.6/site-packages/ipykernel_launcher.py\", line 16, in <module>\n",
      "    app.launch_new_instance()\n",
      "  File \"/home/harsh/tensorflow/lib/python3.6/site-packages/traitlets/config/application.py\", line 658, in launch_instance\n",
      "    app.start()\n",
      "  File \"/home/harsh/tensorflow/lib/python3.6/site-packages/ipykernel/kernelapp.py\", line 486, in start\n",
      "    self.io_loop.start()\n",
      "  File \"/home/harsh/tensorflow/lib/python3.6/site-packages/tornado/platform/asyncio.py\", line 112, in start\n",
      "    self.asyncio_loop.run_forever()\n",
      "  File \"/usr/lib/python3.6/asyncio/base_events.py\", line 421, in run_forever\n",
      "    self._run_once()\n",
      "  File \"/usr/lib/python3.6/asyncio/base_events.py\", line 1426, in _run_once\n",
      "    handle._run()\n",
      "  File \"/usr/lib/python3.6/asyncio/events.py\", line 127, in _run\n",
      "    self._callback(*self._args)\n",
      "  File \"/home/harsh/tensorflow/lib/python3.6/site-packages/tornado/platform/asyncio.py\", line 102, in _handle_events\n",
      "    handler_func(fileobj, events)\n",
      "  File \"/home/harsh/tensorflow/lib/python3.6/site-packages/tornado/stack_context.py\", line 276, in null_wrapper\n",
      "    return fn(*args, **kwargs)\n",
      "  File \"/home/harsh/tensorflow/lib/python3.6/site-packages/zmq/eventloop/zmqstream.py\", line 450, in _handle_events\n",
      "    self._handle_recv()\n",
      "  File \"/home/harsh/tensorflow/lib/python3.6/site-packages/zmq/eventloop/zmqstream.py\", line 480, in _handle_recv\n",
      "    self._run_callback(callback, msg)\n",
      "  File \"/home/harsh/tensorflow/lib/python3.6/site-packages/zmq/eventloop/zmqstream.py\", line 432, in _run_callback\n",
      "    callback(*args, **kwargs)\n",
      "  File \"/home/harsh/tensorflow/lib/python3.6/site-packages/tornado/stack_context.py\", line 276, in null_wrapper\n",
      "    return fn(*args, **kwargs)\n",
      "  File \"/home/harsh/tensorflow/lib/python3.6/site-packages/ipykernel/kernelbase.py\", line 283, in dispatcher\n",
      "    return self.dispatch_shell(stream, msg)\n",
      "  File \"/home/harsh/tensorflow/lib/python3.6/site-packages/ipykernel/kernelbase.py\", line 233, in dispatch_shell\n",
      "    handler(stream, idents, msg)\n",
      "  File \"/home/harsh/tensorflow/lib/python3.6/site-packages/ipykernel/kernelbase.py\", line 399, in execute_request\n",
      "    user_expressions, allow_stdin)\n",
      "  File \"/home/harsh/tensorflow/lib/python3.6/site-packages/ipykernel/ipkernel.py\", line 208, in do_execute\n",
      "    res = shell.run_cell(code, store_history=store_history, silent=silent)\n",
      "  File \"/home/harsh/tensorflow/lib/python3.6/site-packages/ipykernel/zmqshell.py\", line 537, in run_cell\n",
      "    return super(ZMQInteractiveShell, self).run_cell(*args, **kwargs)\n",
      "  File \"/home/harsh/tensorflow/lib/python3.6/site-packages/IPython/core/interactiveshell.py\", line 2728, in run_cell\n",
      "    interactivity=interactivity, compiler=compiler, result=result)\n",
      "  File \"/home/harsh/tensorflow/lib/python3.6/site-packages/IPython/core/interactiveshell.py\", line 2850, in run_ast_nodes\n",
      "    if self.run_code(code, result):\n",
      "  File \"/home/harsh/tensorflow/lib/python3.6/site-packages/IPython/core/interactiveshell.py\", line 2910, in run_code\n",
      "    exec(code_obj, self.user_global_ns, self.user_ns)\n",
      "  File \"<ipython-input-1-50e7eb659e7d>\", line 1, in <module>\n",
      "    get_ipython().run_line_magic('matplotlib', 'inline')\n",
      "  File \"/home/harsh/tensorflow/lib/python3.6/site-packages/IPython/core/interactiveshell.py\", line 2095, in run_line_magic\n",
      "    result = fn(*args,**kwargs)\n",
      "  File \"<decorator-gen-107>\", line 2, in matplotlib\n",
      "  File \"/home/harsh/tensorflow/lib/python3.6/site-packages/IPython/core/magic.py\", line 187, in <lambda>\n",
      "    call = lambda f, *a, **k: f(*a, **k)\n",
      "  File \"/home/harsh/tensorflow/lib/python3.6/site-packages/IPython/core/magics/pylab.py\", line 99, in matplotlib\n",
      "    gui, backend = self.shell.enable_matplotlib(args.gui)\n",
      "  File \"/home/harsh/tensorflow/lib/python3.6/site-packages/IPython/core/interactiveshell.py\", line 2978, in enable_matplotlib\n",
      "    pt.activate_matplotlib(backend)\n",
      "  File \"/home/harsh/tensorflow/lib/python3.6/site-packages/IPython/core/pylabtools.py\", line 308, in activate_matplotlib\n",
      "    matplotlib.pyplot.switch_backend(backend)\n",
      "  File \"/home/harsh/tensorflow/lib/python3.6/site-packages/matplotlib/pyplot.py\", line 231, in switch_backend\n",
      "    matplotlib.use(newbackend, warn=False, force=True)\n",
      "  File \"/home/harsh/tensorflow/lib/python3.6/site-packages/matplotlib/__init__.py\", line 1400, in use\n",
      "    reload(sys.modules['matplotlib.backends'])\n",
      "  File \"/home/harsh/tensorflow/lib/python3.6/importlib/__init__.py\", line 166, in reload\n",
      "    _bootstrap._exec(spec, module)\n",
      "  File \"/home/harsh/tensorflow/lib/python3.6/site-packages/matplotlib/backends/__init__.py\", line 16, in <module>\n",
      "    line for line in traceback.format_stack()\n",
      "\n",
      "\n",
      "  \n",
      "/home/harsh/tensorflow/lib/python3.6/site-packages/h5py/__init__.py:36: FutureWarning: Conversion of the second argument of issubdtype from `float` to `np.floating` is deprecated. In future, it will be treated as `np.float64 == np.dtype(float).type`.\n",
      "  from ._conv import register_converters as _register_converters\n",
      "Using TensorFlow backend.\n"
     ]
    }
   ],
   "source": [
    "%matplotlib inline\n",
    "# %load kerass_conv.py\n",
    "\n",
    "from __future__ import print_function\n",
    "import matplotlib\n",
    "matplotlib.use('Agg')\n",
    "\n",
    "import sys\n",
    "import keras\n",
    "# from keras.datasets import mnist\n",
    "from keras.models import Sequential\n",
    "from keras.layers import Dense, Dropout, Flatten\n",
    "from keras.layers import Conv2D, MaxPooling2D\n",
    "from keras import backend as K\n",
    "from sklearn.datasets import fetch_mldata\n",
    "import matplotlib.pyplot as plt\n",
    "import numpy as np\n",
    "np.set_printoptions(threshold=np.nan)\n",
    "mnist = fetch_mldata('MNIST original')\n",
    "\n",
    "batch_size = 1000\n",
    "num_classes = 10\n",
    "epochs = 100\n",
    "\n",
    "# input image dimensions\n",
    "img_rows, img_cols = 28, 28\n",
    "\n",
    "# the data, shuffled and split between train and test sets\n",
    "# (x_train, y_train), (x_test, y_test) = mnist.load_data()\n",
    "X, y = mnist[\"data\"], mnist[\"target\"]\n",
    "x_train, x_test, y_train, y_test = X[:60000], X[60000:], y[:60000], y[60000:]\n",
    "x_train = x_train/255\n",
    "x_test = x_test/255\n",
    "# print(x_train.shape,y_train.shape,x_test.shape)\n"
   ]
  },
  {
   "cell_type": "code",
   "execution_count": 2,
   "metadata": {},
   "outputs": [
    {
     "name": "stdout",
     "output_type": "stream",
     "text": [
      "Training Details\n",
      "x_train shape  -   (12665, 56, 56, 1)\n",
      "Testing Details\n",
      "x_test shape  -   (2115, 56, 56, 1)\n",
      "(12665,)\n",
      "(2115,)\n"
     ]
    }
   ],
   "source": [
    "## TRAINING DATA MODIFICATION\n",
    "print('Training Details')\n",
    "temp = x_train[np.where(y_train == 0)]\n",
    "temp = np.reshape(temp,(-1,28,28))\n",
    "\n",
    "temp1 = np.zeros((5923,56,56))\n",
    "temp1[:,:28,:28] = temp\n",
    "x_train_new = temp1\n",
    "\n",
    "temp = x_train[np.where(y_train == 1)]\n",
    "temp = np.reshape(temp,(-1,28,28))\n",
    "\n",
    "temp1 = np.zeros((6742,56,56))\n",
    "temp1[:,28:,28:] = temp\n",
    "x_train_new = np.vstack((x_train_new,temp1))\n",
    "\n",
    "x_train_new = np.reshape(x_train_new,(12665,56,56,1))\n",
    "print('x_train shape  -  ',x_train_new.shape)\n",
    "\n",
    "\n",
    "## TEST DATA MODIFICATION\n",
    "print('Testing Details')\n",
    "\n",
    "temp = x_test[np.where(y_test == 0)]\n",
    "temp = np.reshape(temp,(-1,28,28))\n",
    "\n",
    "temp1 = np.zeros((temp.shape[0],56,56))\n",
    "# temp1[:,28:,28:] = temp\n",
    "temp1[:,:28,:28] = temp\n",
    "x_test_new = temp1\n",
    "\n",
    "temp = x_test[np.where(y_test == 1)]\n",
    "temp = np.reshape(temp,(-1,28,28))\n",
    "\n",
    "temp1 = np.zeros((temp.shape[0],56,56))\n",
    "# temp1[:,:28,:28] = temp\n",
    "temp1[:,28:,28:] = temp\n",
    "x_test_new = np.vstack((x_test_new,temp1))\n",
    "# print(x_test_new.shape)\n",
    "\n",
    "x_test_new = np.reshape(x_test_new,(x_test_new.shape[0],56,56,1))\n",
    "print('x_test shape  -  ',x_test_new.shape)\n",
    "\n",
    "## TRAIN Y DATA MODIFICATION\n",
    "temp = y_train[np.where(y_train == 0)]\n",
    "temp1 = y_train[np.where(y_train == 1)]\n",
    "y_train_new = np.hstack((temp,temp1))\n",
    "print(y_train_new.shape)\n",
    "\n",
    "\n",
    "## TEST Y DATA MODIFICATION\n",
    "temp = y_test[np.where(y_test == 0)]\n",
    "temp1 = y_test[np.where(y_test == 1)]\n",
    "y_test_new = np.hstack((temp,temp1))\n",
    "print(y_test_new.shape)\n",
    "\n",
    "\n"
   ]
  },
  {
   "cell_type": "code",
   "execution_count": 3,
   "metadata": {},
   "outputs": [
    {
     "name": "stdout",
     "output_type": "stream",
     "text": [
      "y_train =  1.0\n"
     ]
    },
    {
     "data": {
      "image/png": "[encoded data removed]",
      "text/plain": [
       "<Figure size 432x288 with 1 Axes>"
      ]
     },
     "metadata": {},
     "output_type": "display_data"
    },
    {
     "name": "stdout",
     "output_type": "stream",
     "text": [
      "y_test =  1.0\n"
     ]
    },
    {
     "data": {
      "image/png": "[encoded data removed]",
      "text/plain": [
       "<Figure size 432x288 with 1 Axes>"
      ]
     },
     "metadata": {},
     "output_type": "display_data"
    }
   ],
   "source": [
    "# Pringnting All Details\n",
    "NumberTrain = 8000\n",
    "\n",
    "print('y_train = ', y_train[NumberTrain])\n",
    "plt.figure()\n",
    "plt.imshow(x_train_new[NumberTrain,:,:,0])\n",
    "plt.show()\n",
    "\n",
    "NumberTest = 981\n",
    "print('y_test = ', y_test[NumberTest])\n",
    "plt.figure()\n",
    "plt.imshow(x_test_new[NumberTest,:,:,0])\n",
    "plt.show()"
   ]
  },
  {
   "cell_type": "code",
   "execution_count": 4,
   "metadata": {},
   "outputs": [],
   "source": [
    "batch_size = 500\n",
    "num_classes = 2\n",
    "epochs = 1\n",
    "\n",
    "# convert class vectors to binary class matrices\n",
    "y_train_new = keras.utils.to_categorical(y_train_new, num_classes)\n",
    "y_test_new = keras.utils.to_categorical(y_test_new, num_classes)\n"
   ]
  },
  {
   "cell_type": "code",
   "execution_count": 5,
   "metadata": {},
   "outputs": [],
   "source": [
    "if K.image_data_format() == 'channels_first':\n",
    "    input_shape = (1, 56, 56)\n",
    "else:\n",
    "    input_shape = (56, 56, 1)"
   ]
  },
  {
   "cell_type": "code",
   "execution_count": 6,
   "metadata": {},
   "outputs": [
    {
     "name": "stdout",
     "output_type": "stream",
     "text": [
      "Train on 12665 samples, validate on 2115 samples\n",
      "Epoch 1/1\n",
      "12665/12665 [==============================] - 40s 3ms/step - loss: 0.5162 - acc: 0.9528 - val_loss: 1.1300 - val_acc: 0.0000e+00\n"
     ]
    }
   ],
   "source": [
    "model = Sequential()\n",
    "model.add(Conv2D(10, kernel_size=(5, 5),\n",
    "                 activation='relu',\n",
    "                 input_shape=input_shape,\n",
    "                 padding='same'))\n",
    "model.add(MaxPooling2D(pool_size=(2, 2)))\n",
    "model.add(Conv2D(2, (5, 5), activation='relu',padding='same'))\n",
    "model.add(MaxPooling2D(pool_size=(28, 28)))\n",
    "# model.add(Dropout(0.25))\n",
    "model.add(Flatten())\n",
    "model.add(Dense(4, activation='relu'))\n",
    "# model.add(Dropout(0.5))\n",
    "model.add(Dense(num_classes, activation='softmax'))\n",
    "learning_rate = 0.001\n",
    "# opt = keras.optimizers.Adadelta(lr=learning_rate, rho=0.95, epsilon=None, decay=0.0)\n",
    "# opt = keras.optimizers.Adam(lr=learning_rate, beta_1=0.9, beta_2=0.999, epsilon=None, decay=0.0, amsgrad=False)\n",
    "opt = keras.optimizers.Adagrad(lr=learning_rate, epsilon=None, decay=0.0)\n",
    "model.compile(loss=keras.losses.categorical_crossentropy,\n",
    "              optimizer=opt,\n",
    "              metrics=['accuracy'])\n",
    "\n",
    "history = model.fit(x_train_new, y_train_new,\n",
    "          batch_size=batch_size,\n",
    "          epochs=epochs,\n",
    "          verbose=1,\n",
    "          validation_data=(x_test_new, y_test_new))\n"
   ]
  },
  {
   "cell_type": "code",
   "execution_count": 7,
   "metadata": {},
   "outputs": [
    {
     "name": "stdout",
     "output_type": "stream",
     "text": [
      "_________________________________________________________________\n",
      "Layer (type)                 Output Shape              Param #   \n",
      "=================================================================\n",
      "conv2d_1 (Conv2D)            (None, 56, 56, 10)        260       \n",
      "_________________________________________________________________\n",
      "max_pooling2d_1 (MaxPooling2 (None, 28, 28, 10)        0         \n",
      "_________________________________________________________________\n",
      "conv2d_2 (Conv2D)            (None, 28, 28, 20)        5020      \n",
      "_________________________________________________________________\n",
      "max_pooling2d_2 (MaxPooling2 (None, 2, 2, 20)          0         \n",
      "_________________________________________________________________\n",
      "flatten_1 (Flatten)          (None, 80)                0         \n",
      "_________________________________________________________________\n",
      "dense_1 (Dense)              (None, 10)                810       \n",
      "_________________________________________________________________\n",
      "dense_2 (Dense)              (None, 2)                 22        \n",
      "=================================================================\n",
      "Total params: 6,112\n",
      "Trainable params: 6,112\n",
      "Non-trainable params: 0\n",
      "_________________________________________________________________\n"
     ]
    }
   ],
   "source": [
    "model.summary()"
   ]
  },
  {
   "cell_type": "code",
   "execution_count": null,
   "metadata": {},
   "outputs": [],
   "source": []
  }
 ],
 "metadata": {
  "kernelspec": {
   "display_name": "Python 3",
   "language": "python",
   "name": "python3"
  },
  "language_info": {
   "codemirror_mode": {
    "name": "ipython",
    "version": 3
   },
   "file_extension": ".py",
   "mimetype": "text/x-python",
   "name": "python",
   "nbconvert_exporter": "python",
   "pygments_lexer": "ipython3",
   "version": "3.6.3"
  }
 },
 "nbformat": 4,
 "nbformat_minor": 2
}
