{
 "cells": [
  {
   "cell_type": "code",
   "execution_count": 1,
   "metadata": {},
   "outputs": [
    {
     "name": "stderr",
     "output_type": "stream",
     "text": [
      "/home/harsh/tensorflow/lib/python3.6/site-packages/ipykernel_launcher.py:6: UserWarning: \n",
      "This call to matplotlib.use() has no effect because the backend has already\n",
      "been chosen; matplotlib.use() must be called *before* pylab, matplotlib.pyplot,\n",
      "or matplotlib.backends is imported for the first time.\n",
      "\n",
      "The backend was *originally* set to 'module://ipykernel.pylab.backend_inline' by the following code:\n",
      "  File \"/usr/lib/python3.6/runpy.py\", line 193, in _run_module_as_main\n",
      "    \"__main__\", mod_spec)\n",
      "  File \"/usr/lib/python3.6/runpy.py\", line 85, in _run_code\n",
      "    exec(code, run_globals)\n",
      "  File \"/home/harsh/tensorflow/lib/python3.6/site-packages/ipykernel_launcher.py\", line 16, in <module>\n",
      "    app.launch_new_instance()\n",
      "  File \"/home/harsh/tensorflow/lib/python3.6/site-packages/traitlets/config/application.py\", line 658, in launch_instance\n",
      "    app.start()\n",
      "  File \"/home/harsh/tensorflow/lib/python3.6/site-packages/ipykernel/kernelapp.py\", line 486, in start\n",
      "    self.io_loop.start()\n",
      "  File \"/home/harsh/tensorflow/lib/python3.6/site-packages/tornado/platform/asyncio.py\", line 112, in start\n",
      "    self.asyncio_loop.run_forever()\n",
      "  File \"/usr/lib/python3.6/asyncio/base_events.py\", line 421, in run_forever\n",
      "    self._run_once()\n",
      "  File \"/usr/lib/python3.6/asyncio/base_events.py\", line 1426, in _run_once\n",
      "    handle._run()\n",
      "  File \"/usr/lib/python3.6/asyncio/events.py\", line 127, in _run\n",
      "    self._callback(*self._args)\n",
      "  File \"/home/harsh/tensorflow/lib/python3.6/site-packages/tornado/platform/asyncio.py\", line 102, in _handle_events\n",
      "    handler_func(fileobj, events)\n",
      "  File \"/home/harsh/tensorflow/lib/python3.6/site-packages/tornado/stack_context.py\", line 276, in null_wrapper\n",
      "    return fn(*args, **kwargs)\n",
      "  File \"/home/harsh/tensorflow/lib/python3.6/site-packages/zmq/eventloop/zmqstream.py\", line 450, in _handle_events\n",
      "    self._handle_recv()\n",
      "  File \"/home/harsh/tensorflow/lib/python3.6/site-packages/zmq/eventloop/zmqstream.py\", line 480, in _handle_recv\n",
      "    self._run_callback(callback, msg)\n",
      "  File \"/home/harsh/tensorflow/lib/python3.6/site-packages/zmq/eventloop/zmqstream.py\", line 432, in _run_callback\n",
      "    callback(*args, **kwargs)\n",
      "  File \"/home/harsh/tensorflow/lib/python3.6/site-packages/tornado/stack_context.py\", line 276, in null_wrapper\n",
      "    return fn(*args, **kwargs)\n",
      "  File \"/home/harsh/tensorflow/lib/python3.6/site-packages/ipykernel/kernelbase.py\", line 283, in dispatcher\n",
      "    return self.dispatch_shell(stream, msg)\n",
      "  File \"/home/harsh/tensorflow/lib/python3.6/site-packages/ipykernel/kernelbase.py\", line 233, in dispatch_shell\n",
      "    handler(stream, idents, msg)\n",
      "  File \"/home/harsh/tensorflow/lib/python3.6/site-packages/ipykernel/kernelbase.py\", line 399, in execute_request\n",
      "    user_expressions, allow_stdin)\n",
      "  File \"/home/harsh/tensorflow/lib/python3.6/site-packages/ipykernel/ipkernel.py\", line 208, in do_execute\n",
      "    res = shell.run_cell(code, store_history=store_history, silent=silent)\n",
      "  File \"/home/harsh/tensorflow/lib/python3.6/site-packages/ipykernel/zmqshell.py\", line 537, in run_cell\n",
      "    return super(ZMQInteractiveShell, self).run_cell(*args, **kwargs)\n",
      "  File \"/home/harsh/tensorflow/lib/python3.6/site-packages/IPython/core/interactiveshell.py\", line 2728, in run_cell\n",
      "    interactivity=interactivity, compiler=compiler, result=result)\n",
      "  File \"/home/harsh/tensorflow/lib/python3.6/site-packages/IPython/core/interactiveshell.py\", line 2850, in run_ast_nodes\n",
      "    if self.run_code(code, result):\n",
      "  File \"/home/harsh/tensorflow/lib/python3.6/site-packages/IPython/core/interactiveshell.py\", line 2910, in run_code\n",
      "    exec(code_obj, self.user_global_ns, self.user_ns)\n",
      "  File \"<ipython-input-1-50e7eb659e7d>\", line 1, in <module>\n",
      "    get_ipython().run_line_magic('matplotlib', 'inline')\n",
      "  File \"/home/harsh/tensorflow/lib/python3.6/site-packages/IPython/core/interactiveshell.py\", line 2095, in run_line_magic\n",
      "    result = fn(*args,**kwargs)\n",
      "  File \"<decorator-gen-107>\", line 2, in matplotlib\n",
      "  File \"/home/harsh/tensorflow/lib/python3.6/site-packages/IPython/core/magic.py\", line 187, in <lambda>\n",
      "    call = lambda f, *a, **k: f(*a, **k)\n",
      "  File \"/home/harsh/tensorflow/lib/python3.6/site-packages/IPython/core/magics/pylab.py\", line 99, in matplotlib\n",
      "    gui, backend = self.shell.enable_matplotlib(args.gui)\n",
      "  File \"/home/harsh/tensorflow/lib/python3.6/site-packages/IPython/core/interactiveshell.py\", line 2978, in enable_matplotlib\n",
      "    pt.activate_matplotlib(backend)\n",
      "  File \"/home/harsh/tensorflow/lib/python3.6/site-packages/IPython/core/pylabtools.py\", line 308, in activate_matplotlib\n",
      "    matplotlib.pyplot.switch_backend(backend)\n",
      "  File \"/home/harsh/tensorflow/lib/python3.6/site-packages/matplotlib/pyplot.py\", line 231, in switch_backend\n",
      "    matplotlib.use(newbackend, warn=False, force=True)\n",
      "  File \"/home/harsh/tensorflow/lib/python3.6/site-packages/matplotlib/__init__.py\", line 1400, in use\n",
      "    reload(sys.modules['matplotlib.backends'])\n",
      "  File \"/home/harsh/tensorflow/lib/python3.6/importlib/__init__.py\", line 166, in reload\n",
      "    _bootstrap._exec(spec, module)\n",
      "  File \"/home/harsh/tensorflow/lib/python3.6/site-packages/matplotlib/backends/__init__.py\", line 16, in <module>\n",
      "    line for line in traceback.format_stack()\n",
      "\n",
      "\n",
      "  \n",
      "/home/harsh/tensorflow/lib/python3.6/site-packages/h5py/__init__.py:36: FutureWarning: Conversion of the second argument of issubdtype from `float` to `np.floating` is deprecated. In future, it will be treated as `np.float64 == np.dtype(float).type`.\n",
      "  from ._conv import register_converters as _register_converters\n",
      "Using TensorFlow backend.\n"
     ]
    }
   ],
   "source": [
    "%matplotlib inline\n",
    "# %load kerass_conv.py\n",
    "\n",
    "from __future__ import print_function\n",
    "import matplotlib\n",
    "matplotlib.use('Agg')\n",
    "\n",
    "import sys\n",
    "import keras\n",
    "# from keras.datasets import mnist\n",
    "from keras.models import Sequential\n",
    "from keras.layers import Dense, Dropout, Flatten\n",
    "from keras.layers import Conv2D, MaxPooling2D\n",
    "from keras import backend as K\n",
    "from sklearn.datasets import fetch_mldata\n",
    "import matplotlib.pyplot as plt\n",
    "import numpy as np\n",
    "np.set_printoptions(threshold=np.nan)\n",
    "mnist = fetch_mldata('MNIST original')\n",
    "\n",
    "batch_size = 1000\n",
    "num_classes = 10\n",
    "epochs = 100\n",
    "\n",
    "# input image dimensions\n",
    "img_rows, img_cols = 28, 28\n",
    "\n",
    "# the data, shuffled and split between train and test sets\n",
    "# (x_train, y_train), (x_test, y_test) = mnist.load_data()\n",
    "X, y = mnist[\"data\"], mnist[\"target\"]\n",
    "x_train, x_test, y_train, y_test = X[:60000], X[60000:], y[:60000], y[60000:]\n",
    "x_train = x_train/255\n",
    "x_test = x_test/255\n",
    "# print(x_train.shape,y_train.shape,x_test.shape)\n"
   ]
  },
  {
   "cell_type": "code",
   "execution_count": 2,
   "metadata": {},
   "outputs": [
    {
     "name": "stdout",
     "output_type": "stream",
     "text": [
      "Training Details\n",
      "x_train shape  -   (12665, 30, 30, 1)\n",
      "Testing Details\n",
      "x_test shape  -   (2115, 30, 30, 1)\n",
      "(12665,)\n",
      "(2115,)\n"
     ]
    }
   ],
   "source": [
    "## TRAINING DATA MODIFICATION\n",
    "print('Training Details')\n",
    "temp = x_train[np.where(y_train == 0)]\n",
    "temp = np.reshape(temp,(-1,28,28))\n",
    "\n",
    "temp1 = np.zeros((5923,30,30))\n",
    "temp1[:,:28,:28] = temp\n",
    "x_train_new = temp1\n",
    "\n",
    "temp = x_train[np.where(y_train == 1)]\n",
    "temp = np.reshape(temp,(-1,28,28))\n",
    "\n",
    "temp1 = np.zeros((6742,30,30))\n",
    "temp1[:,:28,:28] = temp\n",
    "x_train_new = np.vstack((x_train_new,temp1))\n",
    "\n",
    "x_train_new = np.reshape(x_train_new,(12665,30,30,1))\n",
    "print('x_train shape  -  ',x_train_new.shape)\n",
    "\n",
    "\n",
    "## TEST DATA MODIFICATION\n",
    "print('Testing Details')\n",
    "\n",
    "temp = x_test[np.where(y_test == 0)]\n",
    "temp = np.reshape(temp,(-1,28,28))\n",
    "\n",
    "temp1 = np.zeros((temp.shape[0],30,30))\n",
    "temp1[:,2:30,2:30] = temp\n",
    "# temp1[:,:28,:28] = temp\n",
    "x_test_new = temp1\n",
    "\n",
    "temp = x_test[np.where(y_test == 1)]\n",
    "temp = np.reshape(temp,(-1,28,28))\n",
    "\n",
    "temp1 = np.zeros((temp.shape[0],30,30))\n",
    "# temp1[:,:28,:28] = temp\n",
    "temp1[:,2:30,2:30] = temp\n",
    "x_test_new = np.vstack((x_test_new,temp1))\n",
    "# print(x_test_new.shape)\n",
    "\n",
    "x_test_new = np.reshape(x_test_new,(x_test_new.shape[0],30,30,1))\n",
    "print('x_test shape  -  ',x_test_new.shape)\n",
    "\n",
    "## TRAIN Y DATA MODIFICATION\n",
    "temp = y_train[np.where(y_train == 0)]\n",
    "temp1 = y_train[np.where(y_train == 1)]\n",
    "y_train_new = np.hstack((temp,temp1))\n",
    "print(y_train_new.shape)\n",
    "\n",
    "\n",
    "## TEST Y DATA MODIFICATION\n",
    "temp = y_test[np.where(y_test == 0)]\n",
    "temp1 = y_test[np.where(y_test == 1)]\n",
    "y_test_new = np.hstack((temp,temp1))\n",
    "print(y_test_new.shape)\n",
    "\n",
    "\n"
   ]
  },
  {
   "cell_type": "code",
   "execution_count": 3,
   "metadata": {},
   "outputs": [
    {
     "name": "stdout",
     "output_type": "stream",
     "text": [
      "y_train =  0.0\n"
     ]
    },
    {
     "data": {
      "image/png": "[encoded data removed]",
      "text/plain": [
       "<Figure size 432x288 with 1 Axes>"
      ]
     },
     "metadata": {},
     "output_type": "display_data"
    },
    {
     "name": "stdout",
     "output_type": "stream",
     "text": [
      "y_test =  1.0\n"
     ]
    },
    {
     "data": {
      "image/png": "[encoded data removed]",
      "text/plain": [
       "<Figure size 432x288 with 1 Axes>"
      ]
     },
     "metadata": {},
     "output_type": "display_data"
    }
   ],
   "source": [
    "# Pringnting All Details\n",
    "NumberTrain = 5000\n",
    "\n",
    "print('y_train = ', y_train[NumberTrain])\n",
    "plt.figure()\n",
    "plt.imshow(x_train_new[NumberTrain,:,:,0])\n",
    "plt.show()\n",
    "\n",
    "NumberTest = 981\n",
    "print('y_test = ', y_test[NumberTest])\n",
    "plt.figure()\n",
    "plt.imshow(x_test_new[NumberTest,:,:,0])\n",
    "plt.show()"
   ]
  },
  {
   "cell_type": "code",
   "execution_count": 4,
   "metadata": {},
   "outputs": [],
   "source": [
    "batch_size = 500\n",
    "num_classes = 2\n",
    "epochs = 20\n",
    "\n",
    "# convert class vectors to binary class matrices\n",
    "y_train_new = keras.utils.to_categorical(y_train_new, num_classes)\n",
    "y_test_new = keras.utils.to_categorical(y_test_new, num_classes)\n"
   ]
  },
  {
   "cell_type": "code",
   "execution_count": 5,
   "metadata": {},
   "outputs": [],
   "source": [
    "if K.image_data_format() == 'channels_first':\n",
    "    input_shape = (1, 30, 30)\n",
    "else:\n",
    "    input_shape = (30, 30, 1)"
   ]
  },
  {
   "cell_type": "code",
   "execution_count": 6,
   "metadata": {},
   "outputs": [
    {
     "name": "stdout",
     "output_type": "stream",
     "text": [
      "Train on 12665 samples, validate on 2115 samples\n",
      "Epoch 1/20\n",
      "12665/12665 [==============================] - 7s 542us/step - loss: 0.2925 - acc: 0.9343 - val_loss: 0.9301 - val_acc: 0.9319\n",
      "Epoch 2/20\n",
      "12665/12665 [==============================] - 6s 506us/step - loss: 0.0314 - acc: 0.9976 - val_loss: 0.5338 - val_acc: 0.9574\n",
      "Epoch 3/20\n",
      "12665/12665 [==============================] - 6s 507us/step - loss: 0.0350 - acc: 0.9968 - val_loss: 3.4006 - val_acc: 0.7201\n",
      "Epoch 4/20\n",
      "12665/12665 [==============================] - 6s 507us/step - loss: 0.0179 - acc: 0.9981 - val_loss: 1.4393 - val_acc: 0.8678\n",
      "Epoch 5/20\n",
      "12665/12665 [==============================] - 6s 513us/step - loss: 0.0154 - acc: 0.9984 - val_loss: 2.2520 - val_acc: 0.7882\n",
      "Epoch 6/20\n",
      "12665/12665 [==============================] - 6s 511us/step - loss: 0.0054 - acc: 0.9987 - val_loss: 0.7248 - val_acc: 0.8352\n",
      "Epoch 7/20\n",
      "12665/12665 [==============================] - 6s 506us/step - loss: 0.0036 - acc: 0.9991 - val_loss: 0.5274 - val_acc: 0.8749\n",
      "Epoch 8/20\n",
      "12665/12665 [==============================] - 6s 512us/step - loss: 0.0028 - acc: 0.9992 - val_loss: 0.4684 - val_acc: 0.8794\n",
      "Epoch 9/20\n",
      "12665/12665 [==============================] - 7s 515us/step - loss: 0.0027 - acc: 0.9991 - val_loss: 0.2771 - val_acc: 0.9135\n",
      "Epoch 10/20\n",
      "12665/12665 [==============================] - 6s 505us/step - loss: 0.0035 - acc: 0.9994 - val_loss: 0.3868 - val_acc: 0.8870\n",
      "Epoch 11/20\n",
      "12665/12665 [==============================] - 6s 508us/step - loss: 0.0024 - acc: 0.9993 - val_loss: 0.6311 - val_acc: 0.8541\n",
      "Epoch 12/20\n",
      "12665/12665 [==============================] - 7s 519us/step - loss: 0.0030 - acc: 0.9993 - val_loss: 0.4383 - val_acc: 0.8832\n",
      "Epoch 13/20\n",
      "12665/12665 [==============================] - 7s 516us/step - loss: 0.0024 - acc: 0.9993 - val_loss: 0.4579 - val_acc: 0.9156\n",
      "Epoch 14/20\n",
      "12665/12665 [==============================] - 6s 510us/step - loss: 0.0023 - acc: 0.9996 - val_loss: 0.4363 - val_acc: 0.9121\n",
      "Epoch 15/20\n",
      "12665/12665 [==============================] - 7s 518us/step - loss: 0.0024 - acc: 0.9996 - val_loss: 0.6082 - val_acc: 0.8707\n",
      "Epoch 16/20\n",
      "12665/12665 [==============================] - 6s 508us/step - loss: 0.0017 - acc: 0.9998 - val_loss: 0.9047 - val_acc: 0.8560\n",
      "Epoch 17/20\n",
      "12665/12665 [==============================] - 7s 516us/step - loss: 0.0020 - acc: 0.9997 - val_loss: 0.7176 - val_acc: 0.8889\n",
      "Epoch 18/20\n",
      "12665/12665 [==============================] - 6s 510us/step - loss: 0.0019 - acc: 0.9996 - val_loss: 0.6760 - val_acc: 0.8775\n",
      "Epoch 19/20\n",
      "12665/12665 [==============================] - 6s 511us/step - loss: 0.0018 - acc: 0.9996 - val_loss: 0.4551 - val_acc: 0.9026\n",
      "Epoch 20/20\n",
      "12665/12665 [==============================] - 6s 505us/step - loss: 0.0019 - acc: 0.9997 - val_loss: 0.6214 - val_acc: 0.8908\n"
     ]
    }
   ],
   "source": [
    "model = Sequential()\n",
    "model.add(Conv2D(10, kernel_size=(5, 5),\n",
    "                 activation='relu',\n",
    "                 input_shape=input_shape,\n",
    "                 padding='valid'))\n",
    "model.add(MaxPooling2D(pool_size=(2, 2)))\n",
    "model.add(Conv2D(10, (5, 5), activation='relu',padding='valid'))\n",
    "model.add(MaxPooling2D(pool_size=(2, 2)))\n",
    "# model.add(Conv2D(4, (5, 5), activation='relu',padding='same'))\n",
    "# model.add(MaxPooling2D(pool_size=(6, 6)))\n",
    "# model.add(Dropout(0.25))\n",
    "model.add(Flatten())\n",
    "model.add(Dense(20, activation='relu'))\n",
    "# model.add(Dropout(0.5))\n",
    "model.add(Dense(num_classes, activation='sigmoid'))\n",
    "learning_rate = 0.1\n",
    "# opt = keras.optimizers.Adadelta(lr=learning_rate, rho=0.95, epsilon=None, decay=0.0)\n",
    "opt = keras.optimizers.Adam(lr=learning_rate, beta_1=0.9, beta_2=0.999, epsilon=None, decay=0.0, amsgrad=False)\n",
    "# opt = keras.optimizers.Adagrad(lr=learning_rate, epsilon=None, decay=0.0)\n",
    "# model.compile(loss=keras.losses.categorical_crossentropy,\n",
    "#               optimizer=opt,\n",
    "#               metrics=['accuracy'])\n",
    "model.compile(loss='binary_crossentropy',\n",
    "              optimizer=opt,\n",
    "              metrics=['accuracy'])\n",
    "\n",
    "history = model.fit(x_train_new, y_train_new,shuffle=True,\n",
    "          batch_size=batch_size,\n",
    "          epochs=epochs,\n",
    "          verbose=1,\n",
    "          validation_data=(x_test_new, y_test_new))\n"
   ]
  },
  {
   "cell_type": "code",
   "execution_count": 7,
   "metadata": {},
   "outputs": [
    {
     "name": "stdout",
     "output_type": "stream",
     "text": [
      "_________________________________________________________________\n",
      "Layer (type)                 Output Shape              Param #   \n",
      "=================================================================\n",
      "conv2d_1 (Conv2D)            (None, 26, 26, 10)        260       \n",
      "_________________________________________________________________\n",
      "max_pooling2d_1 (MaxPooling2 (None, 13, 13, 10)        0         \n",
      "_________________________________________________________________\n",
      "conv2d_2 (Conv2D)            (None, 9, 9, 10)          2510      \n",
      "_________________________________________________________________\n",
      "max_pooling2d_2 (MaxPooling2 (None, 4, 4, 10)          0         \n",
      "_________________________________________________________________\n",
      "flatten_1 (Flatten)          (None, 160)               0         \n",
      "_________________________________________________________________\n",
      "dense_1 (Dense)              (None, 20)                3220      \n",
      "_________________________________________________________________\n",
      "dense_2 (Dense)              (None, 2)                 42        \n",
      "=================================================================\n",
      "Total params: 6,032\n",
      "Trainable params: 6,032\n",
      "Non-trainable params: 0\n",
      "_________________________________________________________________\n"
     ]
    }
   ],
   "source": [
    "model.summary()"
   ]
  },
  {
   "cell_type": "code",
   "execution_count": 8,
   "metadata": {},
   "outputs": [
    {
     "data": {
      "text/plain": [
       "array([0, 1])"
      ]
     },
     "execution_count": 8,
     "metadata": {},
     "output_type": "execute_result"
    }
   ],
   "source": [
    "model.predict_classes([x_test_new[979:981]])"
   ]
  },
  {
   "cell_type": "code",
   "execution_count": 9,
   "metadata": {},
   "outputs": [
    {
     "data": {
      "image/png": "[encoded data removed]",
      "text/plain": [
       "<Figure size 432x288 with 1 Axes>"
      ]
     },
     "metadata": {},
     "output_type": "display_data"
    }
   ],
   "source": [
    "plt.figure()\n",
    "plt.imshow(x_test_new[980][:,:,0])\n",
    "plt.show()"
   ]
  },
  {
   "cell_type": "code",
   "execution_count": 10,
   "metadata": {},
   "outputs": [
    {
     "ename": "ValueError",
     "evalue": "No such layer: max_pooling2d_3",
     "output_type": "error",
     "traceback": [
      "\u001b[0;31m---------------------------------------------------------------------------\u001b[0m",
      "\u001b[0;31mValueError\u001b[0m                                Traceback (most recent call last)",
      "\u001b[0;32m<ipython-input-10-122c96a4ddcd>\u001b[0m in \u001b[0;36m<module>\u001b[0;34m()\u001b[0m\n\u001b[1;32m      1\u001b[0m \u001b[0;32mfrom\u001b[0m \u001b[0mkeras\u001b[0m\u001b[0;34m.\u001b[0m\u001b[0mmodels\u001b[0m \u001b[0;32mimport\u001b[0m \u001b[0mModel\u001b[0m\u001b[0;34m\u001b[0m\u001b[0m\n\u001b[1;32m      2\u001b[0m intermediate_layer_model = Model(inputs=model.input,\n\u001b[0;32m----> 3\u001b[0;31m                                  outputs=model.get_layer('max_pooling2d_3').output)\n\u001b[0m",
      "\u001b[0;32m~/tensorflow/lib/python3.6/site-packages/keras/models.py\u001b[0m in \u001b[0;36mget_layer\u001b[0;34m(self, name, index)\u001b[0m\n\u001b[1;32m    542\u001b[0m         \u001b[0;32mif\u001b[0m \u001b[0;32mnot\u001b[0m \u001b[0mself\u001b[0m\u001b[0;34m.\u001b[0m\u001b[0mbuilt\u001b[0m\u001b[0;34m:\u001b[0m\u001b[0;34m\u001b[0m\u001b[0m\n\u001b[1;32m    543\u001b[0m             \u001b[0mself\u001b[0m\u001b[0;34m.\u001b[0m\u001b[0mbuild\u001b[0m\u001b[0;34m(\u001b[0m\u001b[0;34m)\u001b[0m\u001b[0;34m\u001b[0m\u001b[0m\n\u001b[0;32m--> 544\u001b[0;31m         \u001b[0;32mreturn\u001b[0m \u001b[0mself\u001b[0m\u001b[0;34m.\u001b[0m\u001b[0mmodel\u001b[0m\u001b[0;34m.\u001b[0m\u001b[0mget_layer\u001b[0m\u001b[0;34m(\u001b[0m\u001b[0mname\u001b[0m\u001b[0;34m,\u001b[0m \u001b[0mindex\u001b[0m\u001b[0;34m)\u001b[0m\u001b[0;34m\u001b[0m\u001b[0m\n\u001b[0m\u001b[1;32m    545\u001b[0m \u001b[0;34m\u001b[0m\u001b[0m\n\u001b[1;32m    546\u001b[0m     \u001b[0;32mdef\u001b[0m \u001b[0mcall\u001b[0m\u001b[0;34m(\u001b[0m\u001b[0mself\u001b[0m\u001b[0;34m,\u001b[0m \u001b[0minputs\u001b[0m\u001b[0;34m,\u001b[0m \u001b[0mmask\u001b[0m\u001b[0;34m=\u001b[0m\u001b[0;32mNone\u001b[0m\u001b[0;34m)\u001b[0m\u001b[0;34m:\u001b[0m\u001b[0;34m\u001b[0m\u001b[0m\n",
      "\u001b[0;32m~/tensorflow/lib/python3.6/site-packages/keras/engine/topology.py\u001b[0m in \u001b[0;36mget_layer\u001b[0;34m(self, name, index)\u001b[0m\n\u001b[1;32m   1889\u001b[0m                 \u001b[0;32mreturn\u001b[0m \u001b[0mlayer\u001b[0m\u001b[0;34m\u001b[0m\u001b[0m\n\u001b[1;32m   1890\u001b[0m \u001b[0;34m\u001b[0m\u001b[0m\n\u001b[0;32m-> 1891\u001b[0;31m         \u001b[0;32mraise\u001b[0m \u001b[0mValueError\u001b[0m\u001b[0;34m(\u001b[0m\u001b[0;34m'No such layer: '\u001b[0m \u001b[0;34m+\u001b[0m \u001b[0mname\u001b[0m\u001b[0;34m)\u001b[0m\u001b[0;34m\u001b[0m\u001b[0m\n\u001b[0m\u001b[1;32m   1892\u001b[0m \u001b[0;34m\u001b[0m\u001b[0m\n\u001b[1;32m   1893\u001b[0m     \u001b[0;34m@\u001b[0m\u001b[0mproperty\u001b[0m\u001b[0;34m\u001b[0m\u001b[0m\n",
      "\u001b[0;31mValueError\u001b[0m: No such layer: max_pooling2d_3"
     ]
    }
   ],
   "source": [
    "from keras.models import Model\n",
    "intermediate_layer_model = Model(inputs=model.input,\n",
    "                                 outputs=model.get_layer('max_pooling2d_3').output)\n"
   ]
  },
  {
   "cell_type": "code",
   "execution_count": null,
   "metadata": {},
   "outputs": [],
   "source": [
    "a = intermediate_layer_model.predict([x_test_new[977:983]])"
   ]
  },
  {
   "cell_type": "code",
   "execution_count": null,
   "metadata": {},
   "outputs": [],
   "source": [
    "a"
   ]
  },
  {
   "cell_type": "code",
   "execution_count": null,
   "metadata": {},
   "outputs": [],
   "source": []
  }
 ],
 "metadata": {
  "kernelspec": {
   "display_name": "Python 3",
   "language": "python",
   "name": "python3"
  },
  "language_info": {
   "codemirror_mode": {
    "name": "ipython",
    "version": 3
   },
   "file_extension": ".py",
   "mimetype": "text/x-python",
   "name": "python",
   "nbconvert_exporter": "python",
   "pygments_lexer": "ipython3",
   "version": "3.6.3"
  }
 },
 "nbformat": 4,
 "nbformat_minor": 2
}
